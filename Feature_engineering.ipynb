{
 "cells": [
  {
   "cell_type": "code",
   "execution_count": 3,
   "metadata": {},
   "outputs": [],
   "source": [
    "import pandas as pd\n",
    "import matplotlib.pyplot as plt\n",
    "import numpy as np\n",
    "import seaborn as sns\n",
    "from tqdm import tqdm_notebook as tqdm\n",
    "from collections import Counter\n",
    "from scipy import stats"
   ]
  },
  {
   "cell_type": "code",
   "execution_count": 4,
   "metadata": {},
   "outputs": [],
   "source": [
    "\n",
    "prior = pd.read_csv('data/order_products__prior.csv')\n",
    "train = pd.read_csv('data/order_products__train.csv')\n",
    "order = pd.read_csv('data/orders.csv')\n",
    "\n",
    "aisles = pd.read_csv('data/aisles.csv')\n",
    "departments = pd.read_csv('data/departments.csv')\n",
    "products = pd.read_csv('data/products.csv')"
   ]
  },
  {
   "cell_type": "code",
   "execution_count": 7,
   "metadata": {},
   "outputs": [],
   "source": [
    "prod_dep = pd.merge(products, departments, on='department_id', how='left')\n",
    "prod_dep_aisle = pd.merge(prod_dep, aisles, on='aisle_id', how='left')\n",
    "prior_orders = pd.merge(prior, order,on='order_id', how='inner')\n"
   ]
  },
  {
   "cell_type": "code",
   "execution_count": 8,
   "metadata": {},
   "outputs": [],
   "source": [
    "prior_df = pd.merge(prior_orders, products, on='product_id',how='left')"
   ]
  },
  {
   "cell_type": "code",
   "execution_count": 58,
   "metadata": {},
   "outputs": [
    {
     "data": {
      "text/plain": [
       "order_id                        0\n",
       "product_id                      0\n",
       "add_to_cart_order               0\n",
       "reordered                       0\n",
       "eval_set_x                      0\n",
       "user_id                         0\n",
       "eval_set_y                      0\n",
       "order_number                    0\n",
       "order_dow                       0\n",
       "order_hour_of_day               0\n",
       "days_since_prior_order    2078068\n",
       "product_name                    0\n",
       "aisle_id                        0\n",
       "department_id                   0\n",
       "dtype: int64"
      ]
     },
     "execution_count": 58,
     "metadata": {},
     "output_type": "execute_result"
    }
   ],
   "source": [
    "prior_df.isna().sum()"
   ]
  },
  {
   "cell_type": "code",
   "execution_count": 9,
   "metadata": {},
   "outputs": [],
   "source": [
    "mean = np.round(prior_df['days_since_prior_order'].mean())\n",
    "prior_df.fillna(mean, inplace=True)"
   ]
  },
  {
   "cell_type": "markdown",
   "metadata": {},
   "source": [
    "### 1. USER ID 와 연관있는 Feature engineering"
   ]
  },
  {
   "cell_type": "markdown",
   "metadata": {},
   "source": [
    "- 사용자 ID 별 최대 주문 건수  \n",
    "- 사용자 ID 별 평균 주문 건수  \n",
    "- 사용자 ID 별 최소 주문 건수  \n"
   ]
  },
  {
   "cell_type": "code",
   "execution_count": 10,
   "metadata": {},
   "outputs": [],
   "source": [
    "user_df = pd.DataFrame()\n",
    "user_df['max_num_order'] = prior_df.groupby('user_id')['order_number'].aggregate('max') \n",
    "user_df['mean_num_order'] = prior_df.groupby('user_id')['order_number'].aggregate('mean').astype(int)\n",
    "user_df['min_num_order'] = prior_df.groupby('user_id')['order_number'].aggregate('min')"
   ]
  },
  {
   "cell_type": "markdown",
   "metadata": {},
   "source": [
    "- 사용자별 최대 많이 주문한 시간대"
   ]
  },
  {
   "cell_type": "code",
   "execution_count": 12,
   "metadata": {},
   "outputs": [],
   "source": [
    "# user_df['max_dow'] = prior_df.groupby('user_id')['order_dow'].aggregate(lambda x:stats.mode(x)[0])\n",
    "user_df['max_dow']  = prior_df.groupby('user_id')['order_dow'].aggregate(lambda s:s.value_counts().index[0])"
   ]
  },
  {
   "cell_type": "code",
   "execution_count": 13,
   "metadata": {},
   "outputs": [],
   "source": [
    "# 사용자별 평균 재주문한 기간\n",
    "user_df['mean_since_prior_order'] =  prior_df.groupby('user_id')['days_since_prior_order'].aggregate('mean').astype(int)"
   ]
  },
  {
   "cell_type": "code",
   "execution_count": 14,
   "metadata": {},
   "outputs": [],
   "source": [
    "# 사용자별 주문 상품 전체 개수\n",
    "user_df['total_order_number'] =  prior_df.groupby('user_id')['order_number'].aggregate('sum')"
   ]
  },
  {
   "cell_type": "code",
   "execution_count": 15,
   "metadata": {},
   "outputs": [],
   "source": [
    "# 사용자별 재주문 비율\n",
    "user_df['reorder_ratio'] = prior_df.groupby('user_id')['reordered'].aggregate('mean')"
   ]
  },
  {
   "cell_type": "code",
   "execution_count": 16,
   "metadata": {},
   "outputs": [],
   "source": [
    " # 사용자별 구매한 주문 상품 개수\n",
    "user_df['total_prods'] =  prior_df.groupby('user_id')['product_id'].count()"
   ]
  },
  {
   "cell_type": "code",
   "execution_count": 17,
   "metadata": {},
   "outputs": [],
   "source": [
    "# 사용자별 구매한 상품 종류 개수 \n",
    "user_df['total_prods_kinds'] =  prior_df.groupby('user_id')['product_id'].aggregate(lambda x: x.nunique())"
   ]
  },
  {
   "cell_type": "code",
   "execution_count": 18,
   "metadata": {},
   "outputs": [],
   "source": [
    "# 사용자별 최소 구매 번호 \n",
    "user_df['order_starts_num'] = prior_df.groupby(['user_id'])['order_id'].aggregate('min')"
   ]
  },
  {
   "cell_type": "code",
   "execution_count": 106,
   "metadata": {},
   "outputs": [],
   "source": []
  },
  {
   "cell_type": "markdown",
   "metadata": {},
   "source": [
    "#### 2. PRODUCT 연관 특성"
   ]
  },
  {
   "cell_type": "code",
   "execution_count": 19,
   "metadata": {},
   "outputs": [],
   "source": [
    "product_df = pd.DataFrame()"
   ]
  },
  {
   "cell_type": "code",
   "execution_count": 20,
   "metadata": {},
   "outputs": [],
   "source": [
    "# 상품별 판매 빈도\n",
    "product_df['product_sold_freq'] = prior_df.groupby(['product_id'])['order_id'].count()"
   ]
  },
  {
   "cell_type": "code",
   "execution_count": null,
   "metadata": {},
   "outputs": [],
   "source": []
  },
  {
   "cell_type": "code",
   "execution_count": 21,
   "metadata": {},
   "outputs": [],
   "source": [
    "# 상품별 재주문 비율\n",
    "product_df['product_reorder_ratio'] = prior_df.groupby('product_id')['reordered'].aggregate('mean')\n"
   ]
  },
  {
   "cell_type": "code",
   "execution_count": 22,
   "metadata": {},
   "outputs": [],
   "source": [
    "# 상품별 평균 장바구니에 담기는 순서\n",
    "product_df['avg_cart_order'] = prior_df.groupby('product_id')['add_to_cart_order'].aggregate('median')\n"
   ]
  },
  {
   "cell_type": "code",
   "execution_count": 23,
   "metadata": {},
   "outputs": [],
   "source": [
    "#상품별 재주문 까지 걸리는 기간\n",
    "product_df['reorder_days_cost'] = prior_df.groupby('product_id')['days_since_prior_order'].aggregate('median')\n"
   ]
  },
  {
   "cell_type": "code",
   "execution_count": 24,
   "metadata": {},
   "outputs": [],
   "source": [
    "firstorders = prior_df[prior_df['days_since_prior_order']==0]\n"
   ]
  },
  {
   "cell_type": "code",
   "execution_count": 25,
   "metadata": {},
   "outputs": [],
   "source": [
    "# 상품별 첫 구매한 고객수\n",
    "firstorders = prior_df[prior_df['days_since_prior_order']==0]\n",
    "product_df['first_order_cust_num']  = firstorders.groupby('product_id')['order_id'].count()"
   ]
  },
  {
   "cell_type": "code",
   "execution_count": null,
   "metadata": {},
   "outputs": [],
   "source": []
  },
  {
   "cell_type": "markdown",
   "metadata": {},
   "source": [
    "#### 3. 고객별 PURCHASE 연관 특성"
   ]
  },
  {
   "cell_type": "code",
   "execution_count": 26,
   "metadata": {},
   "outputs": [],
   "source": [
    "purchase_df= pd.DataFrame()"
   ]
  },
  {
   "cell_type": "code",
   "execution_count": 27,
   "metadata": {},
   "outputs": [
    {
     "data": {
      "text/plain": [
       "user_id  product_id\n",
       "1        196           10\n",
       "         10258          9\n",
       "         10326          1\n",
       "         12427         10\n",
       "         13032          3\n",
       "                       ..\n",
       "206209   43961          3\n",
       "         44325          1\n",
       "         48370          1\n",
       "         48697          1\n",
       "         48742          2\n",
       "Name: order_id, Length: 13307953, dtype: int64"
      ]
     },
     "execution_count": 27,
     "metadata": {},
     "output_type": "execute_result"
    }
   ],
   "source": [
    "prior_df.groupby(['user_id','product_id'])['order_id'].count()\n"
   ]
  },
  {
   "cell_type": "code",
   "execution_count": 28,
   "metadata": {},
   "outputs": [],
   "source": [
    "# 고객별 상품 구매 횟수\n",
    "purchase_df['userprod_bought_freq'] = prior_df.groupby(['user_id','product_id'])['order_id'].count()\n",
    "\n",
    "#고객별 상품 재구매 횟수\n",
    "purchase_df['userprod_reorder_freq'] = prior_df.groupby(['user_id','product_id'])['reordered'].aggregate('sum')\n",
    "\n",
    "\n",
    "#고객별 상품 재구매 비율\n",
    "purchase_df['userprod_reorder_ratio'] = prior_df.groupby(['user_id','product_id'])['reordered'].aggregate('mean')\n",
    "\n",
    "\n",
    "\n",
    "# 고객별 상품 첫주문 번호\n",
    "purchase_df['userprod_first_order_num'] = prior_df.groupby(['user_id','product_id'])['order_number'].aggregate('min')\n",
    "\n",
    "# 고객별 상품 마지막 주문 번호\n",
    "purchase_df['userprod_last_order_num'] = prior_df.groupby(['user_id','product_id'])['order_number'].aggregate('max')\n",
    "\n",
    "# 고객벌 상품 장바구니 순서\n",
    "\n",
    "purchase_df['userprod_up_avg_cart_order'] = prior_df.groupby(['user_id','product_id'])['add_to_cart_order'].aggregate('mean').astype(int)\n",
    "\n",
    "\n",
    "# 고객별 상품 구매 날짜(일주일평균)\n",
    "\n",
    "purchase_df['userprod_avg_dow'] = prior_df.groupby(['user_id','product_id'])['order_dow'].aggregate('mean').astype(int)\n",
    "\n",
    "# 고객별 상품 구매 시간대 \n",
    "purchase_df['userprod_avg_hour'] = prior_df.groupby(['user_id','product_id'])['order_dow'].aggregate('mean').astype(int)"
   ]
  },
  {
   "cell_type": "code",
   "execution_count": 29,
   "metadata": {},
   "outputs": [],
   "source": [
    "\n",
    "\n",
    "# 고객별 상품 구매 날짜(일주일평균)\n",
    "\n",
    "purchase_df['userprod_avg_dow'] = prior_df.groupby(['user_id','product_id'])['order_dow'].aggregate('mean').astype(int)\n",
    "\n",
    "# 고객별 상품 구매 시간대 \n",
    "purchase_df['userprod_avg_hour'] = prior_df.groupby(['user_id','product_id'])['order_hour_of_day'].aggregate('mean').astype(int)\n",
    "\n",
    "# 고객별 상품 첫구매 후 지난 시간 계산\n",
    "purchase_df['userprod_min_prior_order'] = prior_df.groupby(['user_id','product_id'])['days_since_prior_order'].aggregate('min')\n"
   ]
  },
  {
   "cell_type": "code",
   "execution_count": null,
   "metadata": {},
   "outputs": [],
   "source": []
  },
  {
   "cell_type": "code",
   "execution_count": 30,
   "metadata": {},
   "outputs": [],
   "source": [
    "user_df.to_pickle('data/user_df.pkl')\n",
    "product_df.to_pickle('data/product_df.pkl')\n",
    "purchase_df.to_pickle('data/purchase_df.pkl')"
   ]
  },
  {
   "cell_type": "code",
   "execution_count": null,
   "metadata": {},
   "outputs": [],
   "source": []
  },
  {
   "cell_type": "code",
   "execution_count": null,
   "metadata": {},
   "outputs": [],
   "source": []
  }
 ],
 "metadata": {
  "kernelspec": {
   "display_name": "Python 3 (ipykernel)",
   "language": "python",
   "name": "python3"
  },
  "language_info": {
   "codemirror_mode": {
    "name": "ipython",
    "version": 3
   },
   "file_extension": ".py",
   "mimetype": "text/x-python",
   "name": "python",
   "nbconvert_exporter": "python",
   "pygments_lexer": "ipython3",
   "version": "3.8.17"
  }
 },
 "nbformat": 4,
 "nbformat_minor": 4
}
